{
 "cells": [
  {
   "cell_type": "code",
   "execution_count": null,
   "id": "c66caaa0",
   "metadata": {},
   "outputs": [],
   "source": [
    "#df.to_excel('Lu_177.xls')\n",
    "#df = pd.read_excel('Lu_177.xls', index_col = 'WOS_ID')"
   ]
  },
  {
   "cell_type": "code",
   "execution_count": 1,
   "id": "d27307e0",
   "metadata": {},
   "outputs": [],
   "source": [
    "import pandas as pd"
   ]
  },
  {
   "cell_type": "code",
   "execution_count": 2,
   "id": "ad891062",
   "metadata": {},
   "outputs": [],
   "source": [
    "df1 = pd.read_excel('Lu177-1000.xls')\n",
    "df2 = pd.read_excel('Lu177-1999.xls')\n",
    "df3 = pd.read_excel('Lu177-2999.xls')\n",
    "df4 = pd.read_excel('Lu177-3999.xls')\n",
    "df5 = pd.read_excel('Lu177-4999.xls')\n",
    "df6 = pd.read_excel('Lu177-5432.xls')\n",
    "df = pd.concat([df1,df2,df3,df4,df5,df6], axis = 0)"
   ]
  },
  {
   "cell_type": "markdown",
   "id": "63e7b256",
   "metadata": {},
   "source": [
    "#### Remove fields that have virtualy no data or are irrelvant"
   ]
  },
  {
   "cell_type": "code",
   "execution_count": 3,
   "id": "49ba4db8",
   "metadata": {},
   "outputs": [],
   "source": [
    "void_fields = ['Unnamed: 69','Highly Cited Status','Date of Export', 'Hot Paper Status',\n",
    "              '180 Day Usage Count','Publication Type','eISSN', 'ISBN', 'Book Authors', 'Book Author Full Names',\n",
    "               'Book Series Subtitle', 'Language', 'Conference Location', 'Conference Sponsor','Publisher City',\n",
    "               'Publisher','Since 2013 Usage Count','Cited Reference Count', 'Conference Host', 'Affiliations',\n",
    "               'Author Keywords', 'Keywords Plus','Cited References','Open Access Designations','IDS Number','Web of Science Index',\n",
    "               'Early Access Date', 'Number of Pages', 'Publisher Address','ISSN','Journal ISO Abbreviation', 'Book DOI',\n",
    "              'Times Cited: All Databases']\n",
    "for col in df.columns:\n",
    "    if col in void_fields:\n",
    "        df.drop(col, axis = 1, inplace=True)"
   ]
  },
  {
   "cell_type": "markdown",
   "id": "c30dddcf",
   "metadata": {},
   "source": [
    "#### Change Index to unique index provided by WoS"
   ]
  },
  {
   "cell_type": "code",
   "execution_count": 4,
   "id": "6338eb91",
   "metadata": {},
   "outputs": [],
   "source": [
    "df.drop_duplicates('UT (Unique WOS ID)', inplace = True)\n",
    "df['WOS_ID'] = df['UT (Unique WOS ID)'].str.slice(4)\n",
    "df.set_index('WOS_ID', inplace = True)\n",
    "df.drop('UT (Unique WOS ID)', axis = 1, inplace = True)"
   ]
  },
  {
   "cell_type": "markdown",
   "id": "0d509202",
   "metadata": {},
   "source": [
    "#### Get rid of spaces in the column names to use them as parameters"
   ]
  },
  {
   "cell_type": "code",
   "execution_count": 5,
   "id": "79edbc25",
   "metadata": {},
   "outputs": [],
   "source": [
    "col_new = []\n",
    "for col in df.columns:\n",
    "    col_n = col.replace(' ','_')\n",
    "    col_n = col_n.replace(',','')\n",
    "    col_new.append(col_n)\n",
    "df.columns = col_new"
   ]
  },
  {
   "cell_type": "markdown",
   "id": "c0678994",
   "metadata": {},
   "source": [
    "#### Drop Astronomy, Geo, Agriculture"
   ]
  },
  {
   "cell_type": "code",
   "execution_count": 7,
   "id": "f0b75ae3",
   "metadata": {},
   "outputs": [
    {
     "name": "stderr",
     "output_type": "stream",
     "text": [
      "/tmp/ipykernel_9465/810638588.py:21: UserWarning: Boolean Series key will be reindexed to match DataFrame index.\n",
      "  df.drop(df[abs_notempty & abs_hf].index, inplace = True)\n"
     ]
    }
   ],
   "source": [
    "dict_stop = ['plant', 'astro', 'geo', 'food', 'soil','agriculture', 'horticulture', 'environmental', 'communication', 'mathematics', 'optics' ]\n",
    "for cat in dict_stop:\n",
    "    df.drop(df[df.WoS_Categories.str.contains(cat)].index, inplace = True)\n",
    "    df.drop(df[df.WoS_Categories.str.contains(cat.title())].index, inplace = True)\n",
    "    df.drop(df[df.WoS_Categories.str.contains(cat.upper())].index, inplace = True)\n",
    "    df.drop(df[df.Research_Areas.str.contains(cat)].index, inplace = True)\n",
    "    df.drop(df[df.Research_Areas.str.contains(cat.title())].index, inplace = True)\n",
    "    df.drop(df[df.Research_Areas.str.contains(cat.upper())].index, inplace = True)\n",
    "\n",
    "    \n",
    "# Drop all papers related to Hf and its isotopes. Sems to be exclusievely inorganic chem or soil science\n",
    "Hf_lst = ['HF-177', 'Hf-177', 'Lu-Hf', 'afnium', 'zircon','photoionisation' ]\n",
    "abs_hf = False\n",
    "ttl_hf = False\n",
    "for word in Hf_lst:\n",
    "    abs_hf = abs_hf | df.Abstract.str.contains(word)\n",
    "    ttl_hf = ttl_hf | df.Article_Title.str.contains(word)\n",
    "ttl_notempty  = df.Article_Title.notnull() \n",
    "abs_notempty  = df.Abstract.notnull() \n",
    "df.drop(df[ttl_notempty & ttl_hf].index, inplace = True)\n",
    "df.drop(df[abs_notempty & abs_hf].index, inplace = True)\n",
    "\n",
    "#Also drop tose with no publication year\n",
    "df.drop(df[df.Publication_Year.isnull()].index, inplace = True)"
   ]
  },
  {
   "cell_type": "code",
   "execution_count": 9,
   "id": "b63eaf92",
   "metadata": {},
   "outputs": [
    {
     "name": "stderr",
     "output_type": "stream",
     "text": [
      "/tmp/ipykernel_9465/78824525.py:1: FutureWarning: As the xlwt package is no longer maintained, the xlwt engine will be removed in a future version of pandas. This is the only engine in pandas that supports writing in the xls format. Install openpyxl and write to an xlsx file instead. You can set the option io.excel.xls.writer to 'xlwt' to silence this warning. While this option is deprecated and will also raise a warning, it can be globally set and the warning suppressed.\n",
      "  df.to_excel('Lu_177.xls')\n"
     ]
    }
   ],
   "source": [
    "df.to_excel('Lu_177.xls')"
   ]
  },
  {
   "cell_type": "code",
   "execution_count": null,
   "id": "cafce982",
   "metadata": {},
   "outputs": [],
   "source": []
  }
 ],
 "metadata": {
  "kernelspec": {
   "display_name": "Python 3 (ipykernel)",
   "language": "python",
   "name": "python3"
  },
  "language_info": {
   "codemirror_mode": {
    "name": "ipython",
    "version": 3
   },
   "file_extension": ".py",
   "mimetype": "text/x-python",
   "name": "python",
   "nbconvert_exporter": "python",
   "pygments_lexer": "ipython3",
   "version": "3.9.13"
  }
 },
 "nbformat": 4,
 "nbformat_minor": 5
}
