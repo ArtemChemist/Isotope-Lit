{
 "cells": [
  {
   "cell_type": "code",
   "execution_count": 1,
   "id": "4247342d",
   "metadata": {},
   "outputs": [],
   "source": [
    "import pandas as pd\n",
    "import re\n",
    "import nltk\n",
    "from nltk.corpus import stopwords\n",
    "from nltk.tokenize import word_tokenize\n",
    "from nltk.stem import WordNetLemmatizer\n",
    "from nltk.corpus import wordnet\n",
    "#nltk.download('stopwords')\n",
    "#nltk.download('wordnet')\n",
    "#nltk.download('averaged_perceptron_tagger')\n",
    "#nltk.download('punkt')\n",
    "\n",
    "# Read saved dataframe\n",
    "df = pd.read_excel('Lu_177.xls', index_col = 'WOS_ID')"
   ]
  },
  {
   "cell_type": "code",
   "execution_count": 2,
   "id": "c4e115e5",
   "metadata": {},
   "outputs": [],
   "source": [
    "df1 = df[['Publication_Year', 'Article_Title','Abstract']]"
   ]
  },
  {
   "cell_type": "code",
   "execution_count": 3,
   "id": "f81c1054",
   "metadata": {},
   "outputs": [
    {
     "name": "stderr",
     "output_type": "stream",
     "text": [
      "/tmp/ipykernel_10901/3594877406.py:1: SettingWithCopyWarning: \n",
      "A value is trying to be set on a copy of a slice from a DataFrame.\n",
      "Try using .loc[row_indexer,col_indexer] = value instead\n",
      "\n",
      "See the caveats in the documentation: https://pandas.pydata.org/pandas-docs/stable/user_guide/indexing.html#returning-a-view-versus-a-copy\n",
      "  df1['Text'] = df1['Article_Title'].astype(str) + ' ' + df1['Abstract'].astype(str)\n",
      "/home/artem/anaconda3/lib/python3.9/site-packages/pandas/core/frame.py:4906: SettingWithCopyWarning: \n",
      "A value is trying to be set on a copy of a slice from a DataFrame\n",
      "\n",
      "See the caveats in the documentation: https://pandas.pydata.org/pandas-docs/stable/user_guide/indexing.html#returning-a-view-versus-a-copy\n",
      "  return super().drop(\n"
     ]
    }
   ],
   "source": [
    "df1['Text'] = df1['Article_Title'].astype(str) + ' ' + df1['Abstract'].astype(str)\n",
    "df1.drop('Article_Title', axis = 1, inplace = True)\n",
    "df1.drop('Abstract', axis = 1, inplace = True)"
   ]
  },
  {
   "cell_type": "code",
   "execution_count": 4,
   "id": "208c893f",
   "metadata": {},
   "outputs": [],
   "source": [
    "dict_Lu = ['lutetium-177', 'lutetium 177', 'lutetium177', '(177)lutetium', '[177]lutetium', '[177] lutetium',\n",
    "           'lutetium - 177', '(177)lu', '177-lu', '177 lu', 'lu-177', '(lu)-l-177', '177lutetium', '177lu',\n",
    "           '[177lu]', 'lu 177', '(lutetium)-l-177', '177lutetium', 'lu-[177]', '(177) lu', '(lu)-177', '(177) lu', \n",
    "           '[(177)]lu', 'lutetium (177)', 'lu-(177)', '( 177)lutetium', 'utetium-177' ]\n",
    "def LuReplace(string):\n",
    "    for name in dict_Lu:\n",
    "        if name in string.lower():\n",
    "            string = string.lower().replace(name, ' lurad ')\n",
    "    return string"
   ]
  },
  {
   "cell_type": "code",
   "execution_count": 5,
   "id": "b8cfb02d",
   "metadata": {},
   "outputs": [
    {
     "name": "stderr",
     "output_type": "stream",
     "text": [
      "/tmp/ipykernel_10901/2972190333.py:1: SettingWithCopyWarning: \n",
      "A value is trying to be set on a copy of a slice from a DataFrame.\n",
      "Try using .loc[row_indexer,col_indexer] = value instead\n",
      "\n",
      "See the caveats in the documentation: https://pandas.pydata.org/pandas-docs/stable/user_guide/indexing.html#returning-a-view-versus-a-copy\n",
      "  df1['Text'] = df1['Text'].apply(LuReplace)\n"
     ]
    }
   ],
   "source": [
    "df1['Text'] = df1['Text'].apply(LuReplace)"
   ]
  },
  {
   "cell_type": "code",
   "execution_count": 6,
   "id": "3b0776c1",
   "metadata": {},
   "outputs": [],
   "source": [
    "def clean (corpus):\n",
    "    cleaned = re.sub(r\"[-—]\", \" \", corpus.lower())\n",
    "    cleaned = re.sub(r\"[^\\w\\s]\", \"\", cleaned)\n",
    "    cleaned = re.sub(r\"_\", \"\", cleaned)\n",
    "    cleaned = re.sub(r\"[0-9]\", \"\", cleaned)\n",
    "    return cleaned"
   ]
  },
  {
   "cell_type": "code",
   "execution_count": 7,
   "id": "aaed6684",
   "metadata": {},
   "outputs": [
    {
     "name": "stderr",
     "output_type": "stream",
     "text": [
      "/tmp/ipykernel_10901/1040110603.py:1: SettingWithCopyWarning: \n",
      "A value is trying to be set on a copy of a slice from a DataFrame.\n",
      "Try using .loc[row_indexer,col_indexer] = value instead\n",
      "\n",
      "See the caveats in the documentation: https://pandas.pydata.org/pandas-docs/stable/user_guide/indexing.html#returning-a-view-versus-a-copy\n",
      "  df1['Text'] = df1['Text'].apply(clean)\n"
     ]
    }
   ],
   "source": [
    "df1['Text'] = df1['Text'].apply(clean)"
   ]
  },
  {
   "cell_type": "code",
   "execution_count": 8,
   "id": "3b012202",
   "metadata": {},
   "outputs": [],
   "source": [
    "nltk_stopwords = stopwords.words('english')\n",
    "# Remove stop words, i.e. 'the', 'where', 'one' etc.\n",
    "# Get libary of stopwords from nltk \n",
    "\n",
    "def RemoveStop(text):\n",
    "    txt = text.split()\n",
    "    text1 = [word for word in txt if word not in nltk_stopwords and len(word)>2]\n",
    "    ans = ' '.join(text1)\n",
    "    if 'lurad lurad' in ans:\n",
    "        ans = ans.replace('lurad lurad', 'lurad')\n",
    "    return ans"
   ]
  },
  {
   "cell_type": "code",
   "execution_count": 9,
   "id": "99ca87ae",
   "metadata": {},
   "outputs": [
    {
     "name": "stderr",
     "output_type": "stream",
     "text": [
      "/tmp/ipykernel_10901/3242279123.py:1: SettingWithCopyWarning: \n",
      "A value is trying to be set on a copy of a slice from a DataFrame.\n",
      "Try using .loc[row_indexer,col_indexer] = value instead\n",
      "\n",
      "See the caveats in the documentation: https://pandas.pydata.org/pandas-docs/stable/user_guide/indexing.html#returning-a-view-versus-a-copy\n",
      "  df1['Text'] = df1['Text'].apply(RemoveStop)\n"
     ]
    }
   ],
   "source": [
    " df1['Text'] = df1['Text'].apply(RemoveStop)"
   ]
  },
  {
   "cell_type": "code",
   "execution_count": 10,
   "id": "03b494c4",
   "metadata": {
    "scrolled": true
   },
   "outputs": [
    {
     "data": {
      "text/plain": [
       "'radionuclide generator based production therapeutic lurad long lived isomer lurad backgroundin work lurad production method based separation nuclear isomers lurad reported lurad separation performed combining use dota dota labelled peptide dotatate liquid liquid extractionmethodsthe lurad cations complexed dota dotatate kept periods time allow lurad production freed lurad ions produced via internal conversion lurad extracted dihexyl ether using ethylhexyl phosphoric acid dehpa room temperature liquid liquid extractions performed periodically period daysresultsa maximum lurad activity ratio achieved lurad mlu dota complex comparison lurad activity ratios realized using lurad mlu dotatate complex lurad separation found affected molar ratio lutetium dota lurad activity ratio achieved excess dota comparison lurad activity ratio obtained lutetium dota present molar ratio lurad ion extraction efficiency decreases presence excess dotaconclusion reported method resulted lurad activity ratio separation ratio close lower end lurad activity ratios attained currently direct route lurad production clinical applications study forms basis extending liquid liquid extraction based lurad separation order lead commercial lurad radionuclide generator'"
      ]
     },
     "execution_count": 10,
     "metadata": {},
     "output_type": "execute_result"
    }
   ],
   "source": [
    " df1.loc['000667691800001','Text']"
   ]
  },
  {
   "cell_type": "code",
   "execution_count": 11,
   "id": "e19b4309",
   "metadata": {},
   "outputs": [],
   "source": [
    "# Convert the word into lemma\n",
    "def lemmtz(text):\n",
    "    ans = []\n",
    "    tagged_new = []\n",
    "    \n",
    "    #First tag them\n",
    "    tagged = nltk.pos_tag(text.split())\n",
    "    \n",
    "    #Convert tags for the format for lemmatizer\n",
    "    for word, tag in tagged:\n",
    "        if tag.startswith('J'):\n",
    "            tag = wordnet.ADJ\n",
    "        elif tag.startswith('V'):\n",
    "            tag = wordnet.VERB\n",
    "        elif tag.startswith('N'):\n",
    "            tag = wordnet.NOUN\n",
    "        elif tag.startswith('R'):\n",
    "            tag = wordnet.ADV\n",
    "        else:\n",
    "            tag = ''\n",
    "        tagged_new.append((word, tag))\n",
    "    # Initialize lemmatizer\n",
    "    lemmatizer = WordNetLemmatizer()\n",
    "    \n",
    "    # Iemmatize words\n",
    "    for word, tag in tagged_new:\n",
    "        if tag != '':\n",
    "            lemma = lemmatizer.lemmatize(word, pos = tag)\n",
    "        else:\n",
    "            lemma = lemmatizer.lemmatize(word)\n",
    "        ans.append(lemma)\n",
    "        \n",
    "    return ' '.join(ans)"
   ]
  },
  {
   "cell_type": "code",
   "execution_count": 12,
   "id": "fbe54570",
   "metadata": {},
   "outputs": [
    {
     "name": "stderr",
     "output_type": "stream",
     "text": [
      "/tmp/ipykernel_10901/64219369.py:1: SettingWithCopyWarning: \n",
      "A value is trying to be set on a copy of a slice from a DataFrame.\n",
      "Try using .loc[row_indexer,col_indexer] = value instead\n",
      "\n",
      "See the caveats in the documentation: https://pandas.pydata.org/pandas-docs/stable/user_guide/indexing.html#returning-a-view-versus-a-copy\n",
      "  df1['Text'] = df1['Text'].apply(lemmtz)\n"
     ]
    }
   ],
   "source": [
    "df1['Text'] = df1['Text'].apply(lemmtz)"
   ]
  },
  {
   "cell_type": "code",
   "execution_count": 13,
   "id": "c7fd7354",
   "metadata": {},
   "outputs": [
    {
     "data": {
      "text/html": [
       "<div>\n",
       "<style scoped>\n",
       "    .dataframe tbody tr th:only-of-type {\n",
       "        vertical-align: middle;\n",
       "    }\n",
       "\n",
       "    .dataframe tbody tr th {\n",
       "        vertical-align: top;\n",
       "    }\n",
       "\n",
       "    .dataframe thead th {\n",
       "        text-align: right;\n",
       "    }\n",
       "</style>\n",
       "<table border=\"1\" class=\"dataframe\">\n",
       "  <thead>\n",
       "    <tr style=\"text-align: right;\">\n",
       "      <th></th>\n",
       "      <th>Publication_Year</th>\n",
       "      <th>Text</th>\n",
       "    </tr>\n",
       "    <tr>\n",
       "      <th>WOS_ID</th>\n",
       "      <th></th>\n",
       "      <th></th>\n",
       "    </tr>\n",
       "  </thead>\n",
       "  <tbody>\n",
       "    <tr>\n",
       "      <th>000667691800001</th>\n",
       "      <td>2019</td>\n",
       "      <td>radionuclide generator base production therape...</td>\n",
       "    </tr>\n",
       "    <tr>\n",
       "      <th>000440432700001</th>\n",
       "      <td>2018</td>\n",
       "      <td>inter comparison quantitative imaging lurad eu...</td>\n",
       "    </tr>\n",
       "    <tr>\n",
       "      <th>000506542000001</th>\n",
       "      <td>2020</td>\n",
       "      <td>comparison biological property lurad probomb l...</td>\n",
       "    </tr>\n",
       "    <tr>\n",
       "      <th>000413983300058</th>\n",
       "      <td>2017</td>\n",
       "      <td>radiosynthesis preclinical study lurad label s...</td>\n",
       "    </tr>\n",
       "    <tr>\n",
       "      <th>000589093400004</th>\n",
       "      <td>2020</td>\n",
       "      <td>model lurad radionuclide generator order deter...</td>\n",
       "    </tr>\n",
       "  </tbody>\n",
       "</table>\n",
       "</div>"
      ],
      "text/plain": [
       "                 Publication_Year  \\\n",
       "WOS_ID                              \n",
       "000667691800001              2019   \n",
       "000440432700001              2018   \n",
       "000506542000001              2020   \n",
       "000413983300058              2017   \n",
       "000589093400004              2020   \n",
       "\n",
       "                                                              Text  \n",
       "WOS_ID                                                              \n",
       "000667691800001  radionuclide generator base production therape...  \n",
       "000440432700001  inter comparison quantitative imaging lurad eu...  \n",
       "000506542000001  comparison biological property lurad probomb l...  \n",
       "000413983300058  radiosynthesis preclinical study lurad label s...  \n",
       "000589093400004  model lurad radionuclide generator order deter...  "
      ]
     },
     "execution_count": 13,
     "metadata": {},
     "output_type": "execute_result"
    }
   ],
   "source": [
    " df1.head()"
   ]
  },
  {
   "cell_type": "code",
   "execution_count": 14,
   "id": "6c12a522",
   "metadata": {},
   "outputs": [
    {
     "name": "stderr",
     "output_type": "stream",
     "text": [
      "/tmp/ipykernel_10901/3415275962.py:1: FutureWarning: As the xlwt package is no longer maintained, the xlwt engine will be removed in a future version of pandas. This is the only engine in pandas that supports writing in the xls format. Install openpyxl and write to an xlsx file instead. You can set the option io.excel.xls.writer to 'xlwt' to silence this warning. While this option is deprecated and will also raise a warning, it can be globally set and the warning suppressed.\n",
      "  df1.to_excel('Lu_lemmatized.xls')\n"
     ]
    }
   ],
   "source": [
    "df1.to_excel('Lu_lemmatized.xls')"
   ]
  },
  {
   "cell_type": "code",
   "execution_count": null,
   "id": "fe3bb606",
   "metadata": {},
   "outputs": [],
   "source": []
  }
 ],
 "metadata": {
  "kernelspec": {
   "display_name": "Python 3 (ipykernel)",
   "language": "python",
   "name": "python3"
  },
  "language_info": {
   "codemirror_mode": {
    "name": "ipython",
    "version": 3
   },
   "file_extension": ".py",
   "mimetype": "text/x-python",
   "name": "python",
   "nbconvert_exporter": "python",
   "pygments_lexer": "ipython3",
   "version": "3.9.7"
  }
 },
 "nbformat": 4,
 "nbformat_minor": 5
}
