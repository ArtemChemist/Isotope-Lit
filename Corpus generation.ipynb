{
 "cells": [
  {
   "cell_type": "code",
   "execution_count": 1,
   "id": "eab3bc65",
   "metadata": {},
   "outputs": [],
   "source": [
    "import nltk\n",
    "import pandas as pd"
   ]
  },
  {
   "cell_type": "code",
   "execution_count": 2,
   "id": "dc5ad978",
   "metadata": {},
   "outputs": [],
   "source": [
    "# Read saved dataframe\n",
    "df = pd.read_excel('Lu_177.xls', index_col = 'WOS_ID')"
   ]
  },
  {
   "cell_type": "markdown",
   "id": "726e8caa",
   "metadata": {},
   "source": [
    "#### In abstracts and titles, replace all posible ways of denoting <sup>177</sup>Lu with \" lurad \" (lutetium radioactive)"
   ]
  },
  {
   "cell_type": "code",
   "execution_count": 3,
   "id": "dc3fdab1",
   "metadata": {},
   "outputs": [],
   "source": [
    "dict_Lu = ['lutetium-177', 'lutetium 177', 'lutetium177', '(177)lutetium', '[177]lutetium', '[177] lutetium',\n",
    "           'lutetium - 177', '(177)lu', '177-lu', '177 lu', 'lu-177', '(lu)-l-177', '177lutetium', '177lu',\n",
    "           '[177lu]', 'lu 177', '(lutetium)-l-177', '177lutetium', 'lu-[177]', '(177) lu', '(lu)-177', '(177) lu', \n",
    "           '[(177)]lu', 'lutetium (177)', 'lu-(177)', '( 177)lutetium', 'utetium-177' ]\n",
    "with open(\"Lu_corpus.txt\",\"w+\") as f:\n",
    "    for title, abstract in zip(df.Article_Title, df.Abstract):\n",
    "        title = str(title).lower()\n",
    "        ab = str(abstract).lower()\n",
    "\n",
    "        for name in dict_Lu:\n",
    "            if name in title:\n",
    "                title = title.replace(name, ' lurad ')\n",
    "            if name in ab:\n",
    "                ab = ab.replace(name, ' lurad ')\n",
    "        f.write(title + ' ' + ab + '\\n')"
   ]
  },
  {
   "cell_type": "code",
   "execution_count": null,
   "id": "87361293",
   "metadata": {},
   "outputs": [],
   "source": []
  }
 ],
 "metadata": {
  "kernelspec": {
   "display_name": "Python 3 (ipykernel)",
   "language": "python",
   "name": "python3"
  },
  "language_info": {
   "codemirror_mode": {
    "name": "ipython",
    "version": 3
   },
   "file_extension": ".py",
   "mimetype": "text/x-python",
   "name": "python",
   "nbconvert_exporter": "python",
   "pygments_lexer": "ipython3",
   "version": "3.9.7"
  }
 },
 "nbformat": 4,
 "nbformat_minor": 5
}
